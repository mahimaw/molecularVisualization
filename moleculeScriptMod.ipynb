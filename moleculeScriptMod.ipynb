{
 "cells": [
  {
   "cell_type": "code",
   "execution_count": 7,
   "metadata": {},
   "outputs": [],
   "source": [
    "import nglview\n",
    "\n",
    "\n",
    "class Protein: \n",
    "    \n",
    "    def __init__(self,pdbid):\n",
    "        self.pdbid = pdbid\n",
    "    \n",
    "    def show(self):\n",
    "        view = nglview.NGLWidget()\n",
    "        \n",
    "        # Retrive pdb id and view 3D\n",
    "        view.add_pdbid(self.pdbid) \n",
    "        return view\n"
   ]
  },
  {
   "cell_type": "code",
   "execution_count": 8,
   "metadata": {},
   "outputs": [],
   "source": [
    "import nglview\n",
    "from chembl_webresource_client.new_client import new_client\n",
    "from rdkit import Chem\n",
    "from rdkit.Chem import AllChem\n",
    "\n",
    "class ChemicalMolecule(Protein):          \n",
    "    def __init__(self,chemblid):\n",
    "        self.chemblid = chemblid\n",
    "        \n",
    "        # Get the small molecule in mol format\n",
    "        molecule = new_client.molecule\n",
    "        molecule.set_format('mol')\n",
    "        res = molecule.get(self.chemblid)\n",
    "        \n",
    "        # Write the 2D cordinates locally to a mol file\n",
    "        with open('mols_2D.mol', 'w') as output:\n",
    "            for mol in res:\n",
    "                output.write(mol)\n",
    "            \n",
    "        m = Chem.MolFromMolFile('mols_2D.mol')\n",
    "        Chem.MolToSmiles(m)\n",
    "        Chem.MolToMolBlock(m)\n",
    "        \n",
    "        # Add Hydrogen molecules\n",
    "        AllChem.EmbedMolecule(m,randomSeed=0xf00d)\n",
    "        m3 = Chem.AddHs(m)\n",
    "        \n",
    "         # Remove Hydrogen molecules\n",
    "        AllChem.EmbedMolecule(m3,randomSeed=0xf00d)\n",
    "        m3 = Chem.RemoveHs(m3)\n",
    "        # Save locally to a 3D.mol file \n",
    "        print(Chem.MolToMolBlock(m3),file=open('mols_3d.mol','w+'))\n",
    "        \n",
    "        \n",
    "    \n",
    "    def show(self,view):\n",
    "        # Take in the previous view object and add component\n",
    "        fileName = 'mols_3D.mol'\n",
    "        view.add_component(fileName)       \n",
    "        \n",
    "        return view"
   ]
  },
  {
   "cell_type": "code",
   "execution_count": 9,
   "metadata": {},
   "outputs": [],
   "source": [
    "P = Protein(pdbid='6LU7')"
   ]
  },
  {
   "cell_type": "code",
   "execution_count": 10,
   "metadata": {},
   "outputs": [],
   "source": [
    "S = ChemicalMolecule(chemblid='CHEMBL725')"
   ]
  },
  {
   "cell_type": "code",
   "execution_count": 11,
   "metadata": {},
   "outputs": [
    {
     "data": {
      "application/vnd.jupyter.widget-view+json": {
       "model_id": "7deba07fbf1849b4b95867b2f86b9544",
       "version_major": 2,
       "version_minor": 0
      },
      "text/plain": [
       "NGLWidget()"
      ]
     },
     "metadata": {},
     "output_type": "display_data"
    }
   ],
   "source": [
    "P.show()\n"
   ]
  },
  {
   "cell_type": "code",
   "execution_count": 12,
   "metadata": {},
   "outputs": [
    {
     "data": {
      "application/vnd.jupyter.widget-view+json": {
       "model_id": "ec4804b399604219a4e58ada5231d1e7",
       "version_major": 2,
       "version_minor": 0
      },
      "text/plain": [
       "NGLWidget()"
      ]
     },
     "metadata": {},
     "output_type": "display_data"
    }
   ],
   "source": [
    "S.show(P.show())"
   ]
  },
  {
   "cell_type": "code",
   "execution_count": null,
   "metadata": {},
   "outputs": [],
   "source": []
  }
 ],
 "metadata": {
  "kernelspec": {
   "display_name": "Python 3",
   "language": "python",
   "name": "python3"
  },
  "language_info": {
   "codemirror_mode": {
    "name": "ipython",
    "version": 3
   },
   "file_extension": ".py",
   "mimetype": "text/x-python",
   "name": "python",
   "nbconvert_exporter": "python",
   "pygments_lexer": "ipython3",
   "version": "3.8.3"
  }
 },
 "nbformat": 4,
 "nbformat_minor": 4
}
